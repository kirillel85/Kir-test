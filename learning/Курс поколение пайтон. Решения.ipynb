{
 "cells": [
  {
   "cell_type": "code",
   "execution_count": null,
   "id": "0066a292-b710-4571-8703-6f3aea22a562",
   "metadata": {},
   "outputs": [],
   "source": [
    "# 4.2 10/16 пройдено. 11 шаг.\n",
    "\n",
    "x = int(input())\n",
    "\n",
    "if  -30 < x <= -2 or 7 < x <= 25:\n",
    "    print('Принадлежит')\n",
    "else: \n",
    "    print('Не принадлежит')"
   ]
  },
  {
   "cell_type": "code",
   "execution_count": null,
   "id": "d1550695-c56f-4cde-9750-91a8ab6e2f58",
   "metadata": {},
   "outputs": [],
   "source": [
    "# 4.2 11/16 пройдено. 12 шаг.\n",
    "\n",
    "x = int(input())\n",
    "\n",
    "if  (x % 7 == 0 or x % 17 == 0) and 999 < x < 10000:\n",
    "    print('YES')\n",
    "else: \n",
    "\n",
    "    print('NO')"
   ]
  },
  {
   "cell_type": "code",
   "execution_count": null,
   "id": "83fa4109-58bb-4cf6-bac3-bf25bb343949",
   "metadata": {},
   "outputs": [],
   "source": [
    "# 4.2 12/16 пройдено. 13 шаг.\n",
    "\n",
    "a, b, c = float(input()), float(input()), float(input())\n",
    "\n",
    "if  a + b > c and a + c > b and b + c > a:\n",
    "    print('YES')\n",
    "else: \n",
    "    print('NO')"
   ]
  },
  {
   "cell_type": "code",
   "execution_count": null,
   "id": "6b9a774c-0ac2-41a8-9d6d-5c2313c02cd9",
   "metadata": {},
   "outputs": [],
   "source": [
    "# 4.2 13/16 пройдено. 14 шаг. Високосный год\n",
    "\n",
    "x = int(input())\n",
    "\n",
    "if x % 4 == 0 and (x % 100 != 0 or x % 400 == 0):\n",
    "    print('YES')\n",
    "else: \n",
    "    print('NO')"
   ]
  },
  {
   "cell_type": "code",
   "execution_count": null,
   "id": "9466d490-2570-473a-b879-3797766d6cb4",
   "metadata": {},
   "outputs": [],
   "source": [
    "# 4.2 14/16 пройдено. 15 шаг. Шахматная доска аля таблица\n",
    "\n",
    "x1 = int(input()) # ось x\n",
    "y1 = int(input()) # ось y\n",
    "x2 = int(input()) \n",
    "y2 = int(input())\n",
    " \n",
    "if (x1 == x2 and y1 != y2) or ( x1 != x2 and y1 == y2):\n",
    "    print('YES')\n",
    "else: \n",
    "    print('NO')"
   ]
  },
  {
   "cell_type": "code",
   "execution_count": null,
   "id": "b9ecc0e3-f938-4717-a6f4-b2f810bebe21",
   "metadata": {},
   "outputs": [],
   "source": [
    "# 4.2 15/16 пройдено. 16 шаг. Шахматная доска \n",
    "# Ход короля 🌶️\n",
    "\n",
    "x1 = int(input()) # номер столбца\n",
    "y1 = int(input()) # номер строки\n",
    "x2 = int(input()) \n",
    "y2 = int(input())\n",
    "\n",
    "if (-1 <= x2 - x1 <= 1)  and (-1 <= y2 - y1 <= 1) :                                     \n",
    "    print('YES')\n",
    "else: \n",
    "    print('NO')\n"
   ]
  },
  {
   "cell_type": "code",
   "execution_count": null,
   "id": "01042f42-5995-4b2c-bf1e-613f23a40b8d",
   "metadata": {},
   "outputs": [],
   "source": [
    "# 4.3 2/11 пройдено. 3 шаг. Гонка спидстеров\n",
    "\n",
    "n = int(input()) # скорость зума\n",
    "k = int(input()) # скорость флэша\n",
    "\n",
    "if n < k:\n",
    "    print('YES')\n",
    "elif k < n:\n",
    "    print('NO')\n",
    "else:\n",
    "    print(\"Don't know\")\n",
    "\n"
   ]
  },
  {
   "cell_type": "code",
   "execution_count": null,
   "id": "0e944ac1-f50c-4415-b220-e8811ef8afc6",
   "metadata": {},
   "outputs": [],
   "source": [
    "# 4.3 3/11 пройдено. 4 шаг. Вид треугольника\n",
    "\n",
    "a = int(input())\n",
    "b = int(input())\n",
    "c = int(input())\n",
    "\n",
    "if a == b == c:\n",
    "    print('Равносторонний')\n",
    "elif a == b or b == c or c == a:\n",
    "    print('Равнобедренный')\n",
    "else:\n",
    "    print('Разносторонний')\n"
   ]
  },
  {
   "cell_type": "code",
   "execution_count": null,
   "id": "de524851-9ed8-47c7-9cfd-e930c516ba5a",
   "metadata": {},
   "outputs": [],
   "source": [
    "# 4.3 4/11 пройдено. 5 шаг. Серединное число\n",
    "\n",
    "a = int(input())\n",
    "b = int(input())\n",
    "c = int(input())\n",
    "\n",
    "if a < b < c or a > b > c :\n",
    "    print(b)\n",
    "elif a < c < b or a > c > b:\n",
    "    print(c)\n",
    "elif c < a < b or c > a > b:\n",
    "    print(a)\n",
    "\n",
    "# 4.3 4/11 Серединное число. Решение короче\n",
    "\n",
    "a = int(input())\n",
    "b = int(input())\n",
    "c = int(input())\n",
    "\n",
    "if a < b < c or a > b > c :\n",
    "    print(b)\n",
    "elif a < c < b or a > c > b:\n",
    "    print(c)\n",
    "else:\n",
    "    print(a)\n"
   ]
  },
  {
   "cell_type": "code",
   "execution_count": null,
   "id": "9a39e91a-a108-4c17-b955-f033a08c405e",
   "metadata": {},
   "outputs": [],
   "source": [
    "# 4.3 5/11 пройдено. 6 шаг. Количество дней\n",
    "a = int(input())\n",
    "\n",
    "if a == 2:\n",
    "    print(28)\n",
    "elif (1 <= a <= 7 and a % 2 == 0) or (7 < a <= 12 and a % 2 != 0):\n",
    "    print(30)\n",
    "else: \n",
    "    print(31)"
   ]
  },
  {
   "cell_type": "code",
   "execution_count": null,
   "id": "2ebc954f-6063-4aad-b627-283e52e9166c",
   "metadata": {},
   "outputs": [],
   "source": [
    "# 4.3 6/11 пройдено. 7 шаг. Церемония взвешивания\n",
    "a = int(input())\n",
    "\n",
    "if a < 60:\n",
    "    print('Легкий вес')\n",
    "elif a < 64:\n",
    "    print('Первый полусредний вес')\n",
    "elif a <= 68:\n",
    "    print('Полусредний вес')"
   ]
  },
  {
   "cell_type": "code",
   "execution_count": null,
   "id": "032f238e-9008-4ba4-88aa-d7bce2a3b9e0",
   "metadata": {},
   "outputs": [],
   "source": [
    "# 4.3 7/11 пройдено. 8 шаг. Церемония взвешивания\n",
    "# Самописный калькулятор 🌶️\n",
    "\n",
    "a = int(input())\n",
    "b = int(input())\n",
    "c = input()\n",
    "\n",
    "if c == '+':\n",
    "    print(a + b)\n",
    "elif c == '-':\n",
    "    print(a-b)\n",
    "elif c == '*':\n",
    "    print(a * b)\n",
    "elif b == 0 and c == '/':\n",
    "    print('На ноль делить нельзя!')\n",
    "elif c == '/':\n",
    "    print(a / b) \n",
    "else:\n",
    "    print('Неверная операция')\n"
   ]
  },
  {
   "cell_type": "code",
   "execution_count": null,
   "id": "f602a17b-c830-4241-b46c-84c1b9ad3a17",
   "metadata": {},
   "outputs": [],
   "source": [
    "# 4.3 8/11 пройдено. 9 шаг.  Цветовой микшер 🌶️\n",
    "a = input()   # Подаём  (или) - красный, синий, желтый \n",
    "b = input()   # Подаём  (или) - красный, синий, желтый\n",
    "\n",
    "# если смешать красный и синий, то получится фиолетовый;\n",
    "# если смешать красный и желтый, то получится оранжевый;\n",
    "# # если смешать синий и желтый, то получится зеленый.\n",
    "\n",
    "if not (a == 'красный' or a ==  'синий' or a == 'желтый') and not (b == 'красный' or b =='синий' or b == 'желтый'):\n",
    "    print('ошибка цвета')\n",
    "elif a == 'красный' and b == 'синий' or a == 'синий' and b == 'красный':\n",
    "    print('фиолетовый')\n",
    "elif a == 'красный' and b == 'желтый' or b == 'красный' and a == 'желтый':\n",
    "    print('оранжевый')\n",
    "elif a == 'синий' and b == 'желтый' or b == 'синий' and a == 'желтый':\n",
    "    print('зеленый')\n",
    "elif a == b:\n",
    "    print(a)\n",
    "else:\n",
    "    print('ошибка цвета')\n",
    "\n",
    "# второе решение. Короче\n",
    "\n",
    "a, b = input(), input()\n",
    "\n",
    "if a == 'красный' and b == 'синий' or a == 'синий' and b == 'красный':\n",
    "    print('фиолетовый')\n",
    "elif a == 'красный' and b == 'желтый' or a == 'желтый' and b == 'красный':\n",
    "    print('оранжевый')\n",
    "elif a == 'синий' and b == 'желтый' or a == 'желтый' and b == 'синий':\n",
    "    print('зеленый')\n",
    "elif (a == 'синий' or a == 'красный' or a == 'желтый') and a == b:\n",
    "    print(a)\n",
    "else:\n",
    "    print('ошибка цвета')\n",
    "\n"
   ]
  },
  {
   "cell_type": "code",
   "execution_count": null,
   "id": "cce2167a-b34c-46f4-aae5-9297e5028703",
   "metadata": {},
   "outputs": [],
   "source": [
    " # 4.3 9/11 пройдено. 10 шаг. Цвета колеса рулетки 🌶️\n",
    "a = int(input())\n",
    "\n",
    "if 0 <= a < 37:\n",
    "    if a == 0:\n",
    "        print('зеленый')\n",
    "    elif (1 <= a < 10 or 19 <= a < 28) and a % 2 != 0:\n",
    "        print('красный')\n",
    "    elif (10 < a <= 18 or 28 < a < 37) and a % 2 == 0:\n",
    "        print('красный')\n",
    "    else:\n",
    "        print('черный')\n",
    "else:\n",
    "    print('ошибка ввода')\n"
   ]
  },
  {
   "cell_type": "code",
   "execution_count": null,
   "id": "aed67d70-32c7-420b-b865-98f64143f8f4",
   "metadata": {},
   "outputs": [],
   "source": [
    " # 4.3 10/11 пройдено. 11 шаг. Пересечение отрезков 🌶️🌶️\n",
    "a = int(input())\n",
    "b = int(input())\n",
    "c = int(input())\n",
    "d = int(input())\n",
    "\n",
    "# знаю что жесть но мне пох\n",
    "\n",
    "if c < b and d > b and a < c:\n",
    "    print (c , b)\n",
    "elif c == b:\n",
    "    print(b)\n",
    "elif d <= b and a < c:\n",
    "    print(c,d)\n",
    "elif a >= c and d > b:\n",
    "    print(a,b)\n",
    "elif b > d and a != d and a < d:\n",
    "    print(a,d)\n",
    "elif (c + d) < (a + b) and b <= d:\n",
    "    print(a,b)\n",
    "elif a == d:\n",
    "    print(a)\n",
    "else:\n",
    "    print('пустое множество')"
   ]
  },
  {
   "cell_type": "code",
   "execution_count": null,
   "id": "421e00bd-f99f-4932-9306-f63bee8005c2",
   "metadata": {},
   "outputs": [],
   "source": [
    "# 5.1 Экзамен\n",
    "# YES or NO вот в чем вопрос\n",
    " # 4.3 10/11 пройдено. 11 шаг. Пересечение отрезков 🌶️🌶️\n",
    "a = int(input())\n",
    "\n",
    "if a % 2 != 0 or (a % 2 == 0 and 6 <= a <= 20):\n",
    "    print ('YES')\n",
    "else:\n",
    "    print('NO')\n",
    "\n",
    "\n"
   ]
  },
  {
   "cell_type": "code",
   "execution_count": null,
   "id": "6fa39674-5d71-4368-9aed-c4692733e96d",
   "metadata": {},
   "outputs": [],
   "source": [
    "# или\n",
    "n = int(input())\n",
    "\n",
    "if n%2!=0:\n",
    "    print('YES')\n",
    "else:\n",
    "    if 2<=n<=5:\n",
    "        print('NO')\n",
    "    elif 6<=n<=20:\n",
    "        print('YES')\n",
    "    elif n>20:\n",
    "        print('NO')\n"
   ]
  },
  {
   "cell_type": "code",
   "execution_count": null,
   "id": "1fc33df2-05e3-488b-98fd-a1a5b93e6db9",
   "metadata": {},
   "outputs": [],
   "source": [
    "# Ход слона\n",
    "\n",
    "x1, y1, x2, y2 = int(input()), int(input()), int(input()), int(input())\n",
    "\n",
    "xy1 = x1 + y1\n",
    "xy2 = x2 + y2\n",
    "\n",
    "if (x1 - y1) == (x2 - y2) or xy1 == xy2:\n",
    "    print ('YES')\n",
    "else:\n",
    "    print('NO')"
   ]
  },
  {
   "cell_type": "code",
   "execution_count": null,
   "id": "2c159b04-1948-4969-975c-9d6035cb45f1",
   "metadata": {},
   "outputs": [],
   "source": [
    "# Ход коня\n",
    "\n",
    "x1, y1, x2, y2 = int(input()), int(input()), int(input()), int(input())\n",
    "\n",
    "sum = x1 + y1 + x2 + y2\n",
    "\n",
    "\n",
    "if sum % 2 != 0 and y1 != y2 and x1 != x2:\n",
    "    print ('YES')\n",
    "else:\n",
    "    print('NO')\n",
    "\n"
   ]
  },
  {
   "cell_type": "code",
   "execution_count": null,
   "id": "2f52640a-8699-4e87-bf0d-0f8211f416ea",
   "metadata": {},
   "outputs": [],
   "source": [
    "# или\n",
    "\n",
    "x1, y1, x2, y2 = int(input()), int(input()), int(input()), int(input())\n",
    "if (x1 - x2) ** 2 + (y1 - y2) ** 2 == 5:\n",
    "    print(\"YES\")\n",
    "else:\n",
    "    print(\"NO\")\n",
    "\n"
   ]
  },
  {
   "cell_type": "code",
   "execution_count": null,
   "id": "03a7986b-87ab-4527-a8bf-eab84a4141ee",
   "metadata": {},
   "outputs": [],
   "source": [
    "# Ход ферзя\n",
    "\n",
    "x1, y1, x2, y2 = int(input()), int(input()), int(input()), int(input())\n",
    "\n",
    "xy1 = x1 + y1\n",
    "xy2 = x2 + y2\n",
    "\n",
    "if ((x2-1) <= x1 <= (x2+1) and (y2-1) <= y1 <= (y2+1)):\n",
    "    print(\"YES\")\n",
    "else:\n",
    "    if ((x1 - y1) == (x2 - y2) or xy1 == xy2) or (y1 == y2 or x1 == x2):\n",
    "        print(\"YES\")\n",
    "    else:  \n",
    "        print(\"NO\")\n"
   ]
  },
  {
   "cell_type": "code",
   "execution_count": null,
   "id": "3d29ba46-e921-4a21-9bb1-2c863f275830",
   "metadata": {},
   "outputs": [],
   "source": [
    "# или\n",
    "# Ход ферзя\n",
    "x1 = int(input())\n",
    "y1 = int(input())\n",
    "x2 = int(input())\n",
    "y2 = int(input())\n",
    "if abs(x1 - x2) == abs(y1 - y2) or x1 == x2 or y1 == y2:\n",
    "    print('YES')\n",
    "else:\n",
    "    print('NO')\n",
    "\n"
   ]
  },
  {
   "cell_type": "markdown",
   "id": "c0a109c2-9f55-4a00-bc22-e58a371ba7ff",
   "metadata": {},
   "source": [
    "#### 6.1 Числовые типы данных\n"
   ]
  },
  {
   "cell_type": "code",
   "execution_count": null,
   "id": "d3cd15cb-86ec-4b2b-8d87-dc3a0110cd48",
   "metadata": {},
   "outputs": [],
   "source": [
    "# Все целочисленные операторы\n",
    "a = 13\n",
    "b = 7\n",
    "\n",
    "total = a + b\n",
    "diff = a - b\n",
    "prod = a * b\n",
    "div1 = a / b\n",
    "div2 = a // b\n",
    "mod = a % b\n",
    "exp = a ** b\n",
    "\n",
    "print(a, '+', b, '=', total)\n",
    "print(a, '-', b, '=', diff)\n",
    "print(a, '*', b, '=', prod)\n",
    "print(a, '/', b, '=', div1)\n",
    "print(a, '//', b, '=', div2)\n",
    "print(a, '%', b, '=', mod)\n",
    "print(a, '**', b, '=', exp)"
   ]
  },
  {
   "cell_type": "code",
   "execution_count": null,
   "id": "b63d8abe-1436-45f6-8ac9-6d3da356df9b",
   "metadata": {},
   "outputs": [],
   "source": [
    "# Символ разделитель\n",
    "num1 = 25_000_000\n",
    "num2 = 25000000\n",
    "print(num1)\n",
    "print(num2)\n"
   ]
  },
  {
   "cell_type": "code",
   "execution_count": null,
   "id": "79e8ef3b-f5ec-42eb-a5e7-18038f446ec5",
   "metadata": {},
   "outputs": [],
   "source": [
    "# Площадь треугольника\n",
    "a, b = float(input()), float(input())\n",
    "s = 1/2 * a * b\n",
    "print(s)\n",
    "\n"
   ]
  },
  {
   "cell_type": "code",
   "execution_count": null,
   "id": "dbe9eea3-9a5d-42fa-9328-a808ba9caf2a",
   "metadata": {},
   "outputs": [],
   "source": [
    "# Две старушки 👵\n",
    "s, v1, v2 = float(input()), float(input()), float(input())\n",
    "\n",
    "v3 = s/(v1 + v2)\n",
    "print(v3)\n"
   ]
  },
  {
   "cell_type": "code",
   "execution_count": null,
   "id": "0b910de7-4d86-4d89-a64a-b4ea9c7d3665",
   "metadata": {},
   "outputs": [],
   "source": [
    "# Обратное число\n",
    "a = float(input())\n",
    "\n",
    "if a == 0: \n",
    "    print(\"Обратного числа не существует\")\n",
    "else:\n",
    "    print(1 / a)\n",
    "    "
   ]
  },
  {
   "cell_type": "code",
   "execution_count": null,
   "id": "cfe258c8-57c0-436e-bf7c-fefb11829fe1",
   "metadata": {},
   "outputs": [],
   "source": [
    "# 451 градус по Фаренгейту 🌡️\n",
    "\n",
    "a = float(input())\n",
    "t = 5/9 * (a-32)\n",
    "print(t)\n"
   ]
  },
  {
   "cell_type": "code",
   "execution_count": null,
   "id": "966db117-524b-434d-ad6a-a1ddd30451a4",
   "metadata": {},
   "outputs": [],
   "source": [
    "# Dog age 🐶\n",
    "\n",
    "age = float(input())\n",
    "if age < 3:\n",
    "    print(age * 10.5)\n",
    "else:\n",
    "    print(21 + (age - 2) * 4) "
   ]
  },
  {
   "cell_type": "code",
   "execution_count": null,
   "id": "86a15996-7c9c-4f7f-8eb8-777683524896",
   "metadata": {},
   "outputs": [],
   "source": [
    "# Первая цифра после точки\n",
    "a = float(input())\n",
    "b = int((a * 10) % 10)\n",
    "print(b)"
   ]
  },
  {
   "cell_type": "code",
   "execution_count": null,
   "id": "67c6fe2b-62ba-4f1c-902e-8d33a6ca0734",
   "metadata": {},
   "outputs": [],
   "source": [
    "# Дробная часть\n",
    "a = float(input())\n",
    "b = a - int((a))\n",
    "print(b)"
   ]
  },
  {
   "cell_type": "markdown",
   "id": "22271bda-344e-44f3-9112-9dc6996850ea",
   "metadata": {},
   "source": [
    "#### 6.1 Встроенные функции"
   ]
  },
  {
   "cell_type": "code",
   "execution_count": null,
   "id": "22ba2dee-ab13-47c8-9087-1e48d458afa4",
   "metadata": {},
   "outputs": [],
   "source": [
    "# Наибольшее и наименьшее\n",
    "a, b, c, d, e = int(input()), int(input()), int(input()), int(input()), int(input())\n",
    "\n",
    "print('Наименьшее число =', min(a, b, c, d, e))\n",
    "print('Наибольшее число =', max(a, b, c, d, e))"
   ]
  },
  {
   "cell_type": "code",
   "execution_count": null,
   "id": "7d0f783b-8217-4e49-88d4-5e97442b84a7",
   "metadata": {},
   "outputs": [],
   "source": [
    "# Сортировка трех 🌶️\n",
    "a, b, c = int(input()), int(input()), int(input())\n",
    "max = max(a, b, c)\n",
    "min = min(a, b, c)\n",
    "sred = a + b + c - max - min\n",
    "\n",
    "print(max)\n",
    "print(sred)\n",
    "print(min)"
   ]
  },
  {
   "cell_type": "code",
   "execution_count": null,
   "id": "e3c2aab4-5b92-4d98-b678-5d6b2bb64e17",
   "metadata": {},
   "outputs": [],
   "source": [
    "# Интересное число\n",
    "# int(input()), int(input()), int(input())\n",
    "x = int(input())\n",
    "a = x // 100\n",
    "b = (x // 10) % 10\n",
    "c = x % 10\n",
    "\n",
    "num = a + b + c - max(a, b, c) - min(a, b, c)\n",
    "difference = max(a, b, c) - min(a, b, c)\n",
    "\n",
    "\n",
    "if num == difference and a != b and c != b:\n",
    "    print('Число интересное')\n",
    "else:\n",
    "    print('Число неинтересное')"
   ]
  },
  {
   "cell_type": "code",
   "execution_count": null,
   "id": "ce24b09c",
   "metadata": {},
   "outputs": [],
   "source": [
    "# Абсолютная сумма🌶️\n",
    "a = float(input())\n",
    "b = float(input())\n",
    "c = float(input())\n",
    "d = float(input())\n",
    "e = float(input())\n",
    "\n",
    "sum_abs = abs(a) + abs(b) + abs(c) + abs(d) + abs(e) \n",
    "print(sum_abs)"
   ]
  },
  {
   "cell_type": "code",
   "execution_count": null,
   "id": "4d58e19e",
   "metadata": {},
   "outputs": [],
   "source": [
    "# Манхэттенское расстояние\n",
    "p1 = int(input())\n",
    "p2 = int(input())\n",
    "q1 = int(input())\n",
    "q2 = int(input())\n",
    "\n",
    "mr = abs(p1-q1)+abs(p2-q2)\n",
    "print(mr)"
   ]
  },
  {
   "cell_type": "markdown",
   "id": "bcaad402",
   "metadata": {},
   "source": [
    "#### 6.2 Тема урока: строковый тип данных"
   ]
  },
  {
   "cell_type": "code",
   "execution_count": null,
   "id": "3bf09186",
   "metadata": {},
   "outputs": [],
   "source": [
    "# Текст в кавычках\n",
    "str1 = '\"Python is a great language!\", said Fred.'\n",
    "str2 = '''\"I don't ever remember having this much fun before.\"'''\n",
    "## использовали тройные кавычки\n",
    "print(str1, str2)"
   ]
  },
  {
   "cell_type": "code",
   "execution_count": null,
   "id": "cc2f7f12",
   "metadata": {},
   "outputs": [],
   "source": [
    "# What's Your Name?\n",
    "fname = input()\n",
    "sname = input()\n",
    "print('Hello', fname, sname + '!', 'You have just delved into Python')"
   ]
  },
  {
   "cell_type": "code",
   "execution_count": null,
   "id": "b2ea91d6",
   "metadata": {},
   "outputs": [],
   "source": [
    "# Футбольная команда ⚽\n",
    "\n",
    "foot_name = input()\n",
    "x = len(foot_name)\n",
    "print('Футбольная команда', foot_name, 'имеет длину', x, 'символов')\n",
    "\n"
   ]
  },
  {
   "cell_type": "code",
   "execution_count": null,
   "id": "695bbbb3",
   "metadata": {},
   "outputs": [],
   "source": [
    "# Три города 🏙️\n",
    "city1 = input()\n",
    "city2 = input()\n",
    "city3 = input()\n",
    "\n",
    "if len(city1)<len(city2)<len(city3):\n",
    "    print(city1)\n",
    "    print(city3)\n",
    "elif len(city1)<len(city3)<len(city2):\n",
    "    print(city1)\n",
    "    print(city2)\n",
    "elif len(city2)<len(city3)<len(city1):\n",
    "    print(city2)\n",
    "    print(city1)\n",
    "elif len(city2)<len(city1)<len(city3):\n",
    "    print(city2)\n",
    "    print(city3)\n",
    "elif len(city3)<len(city1)<len(city2):\n",
    "    print(city3)\n",
    "    print(city2)\n",
    "elif len(city3)<len(city2)<len(city1):\n",
    "    print(city3)\n",
    "    print(city1)\n"
   ]
  },
  {
   "cell_type": "code",
   "execution_count": null,
   "id": "8df58503",
   "metadata": {},
   "outputs": [],
   "source": [
    "# Арифметические строки\n",
    "\n",
    "x = input()\n",
    "y = input()\n",
    "z = input()\n",
    "\n",
    "max = max(len(x), len(y), len (z))\n",
    "min = min(len(x), len(y), len (z))\n",
    "\n",
    "if (max+min)/2 == len(x) or (max+min)/2 == len(y) or (max+min)/2  == len(z):\n",
    "    print('YES')\n",
    "else: \n",
    "    print('NO')"
   ]
  },
  {
   "cell_type": "markdown",
   "id": "d2ff324c",
   "metadata": {},
   "source": [
    "#### Оператор in"
   ]
  },
  {
   "cell_type": "code",
   "execution_count": null,
   "id": "a4e1bc9b",
   "metadata": {},
   "outputs": [],
   "source": [
    "# Цвет настроения синий 🟦\n",
    "str1 = input()\n",
    "if 'синий' in str1:\n",
    "    print('YES')\n",
    "else:\n",
    "    print('NO')\n"
   ]
  },
  {
   "cell_type": "code",
   "execution_count": null,
   "id": "f5a0d263",
   "metadata": {},
   "outputs": [],
   "source": [
    "# Отдыхаем ли?\n",
    "str1 = input()\n",
    "if 'суббота' in str1 or 'воскресенье' in str1:\n",
    "    print('YES')\n",
    "else:\n",
    "    print('NO')"
   ]
  },
  {
   "cell_type": "code",
   "execution_count": null,
   "id": "d7114ddd",
   "metadata": {},
   "outputs": [],
   "source": [
    "# Корректный email 📧\n",
    "str1 = input()\n",
    "if '@' in str1 and '.' in str1:\n",
    "    print('YES')\n",
    "else:\n",
    "    print('NO')"
   ]
  },
  {
   "cell_type": "markdown",
   "id": "4f499abb",
   "metadata": {},
   "source": [
    "#### Тема урока: модуль math"
   ]
  },
  {
   "cell_type": "code",
   "execution_count": null,
   "id": "3fba261a",
   "metadata": {},
   "outputs": [],
   "source": [
    "# Пример импорта модуля (встроенной библиотеки)\n",
    "import math\n",
    "\n",
    "num1 = math.sqrt(2)     # вычисление квадратного корня из двух\n",
    "num2 = math.ceil(3.8)   # округление числа вверх\n",
    "num3 = math.floor(3.8)  # округление числа вниз\n",
    "\n",
    "print(num1)\n",
    "print(num2)\n",
    "print(num3)"
   ]
  },
  {
   "cell_type": "code",
   "execution_count": null,
   "id": "299d9638",
   "metadata": {},
   "outputs": [],
   "source": [
    "# Евклидово расстояние\n",
    "import math\n",
    "\n",
    "p1 = float(input())\n",
    "q1 = float(input())\n",
    "p2 = float(input())\n",
    "q2 = float(input())\n",
    "\n",
    "x = math.sqrt(((p1 - p2) ** 2) + ((q1 - q2) ** 2))\n",
    "print(x)"
   ]
  },
  {
   "cell_type": "code",
   "execution_count": null,
   "id": "b83ad658",
   "metadata": {},
   "outputs": [],
   "source": [
    "# Площадь и длина\n",
    "\n",
    "import math\n",
    "r = float(input())\n",
    "pi =math.pi\n",
    "s = pi * r **2\n",
    "c = 2 * pi * r\n",
    "\n",
    "print(s)\n",
    "print(c)"
   ]
  },
  {
   "cell_type": "code",
   "execution_count": null,
   "id": "1f25303e",
   "metadata": {},
   "outputs": [],
   "source": [
    "# Тригонометрическое выражение sinx + cosx + tan2x\n",
    "import math\n",
    "k = float(input())\n",
    "r = math.radians(k)\n",
    "s = math.sin(r) + math.cos(r) + math.tan(r) ** 2 \n",
    "print(s)"
   ]
  },
  {
   "cell_type": "code",
   "execution_count": null,
   "id": "d006dc31",
   "metadata": {},
   "outputs": [],
   "source": [
    "# Пол и потолок\n",
    "from math import floor, ceil\n",
    "x = float(input())\n",
    "pol = floor(x)\n",
    "potolok = ceil(x)\n",
    "print(pol + potolok)"
   ]
  },
  {
   "cell_type": "code",
   "execution_count": null,
   "id": "a4d56d51",
   "metadata": {},
   "outputs": [],
   "source": [
    "# Квадратное уравнение 🌶️🌶️ ax**2+bx+c=0\n",
    "\n",
    "from math import floor, ceil, sqrt\n",
    "a = float(input())\n",
    "b = float(input())\n",
    "c = float(input())\n",
    "\n",
    "d = b**2-4*a*c\n",
    "\n",
    "if d > 0:\n",
    "    x1 = (-b-sqrt(d))/(2*a)\n",
    "    x2 = (-b+sqrt(d))/(2*a)\n",
    "    print(min(x1,x2))\n",
    "    print(max(x1,x2))\n",
    "elif d == 0:\n",
    "    print(-b/(2*a))\n",
    "else:\n",
    "    print('Нет корней')"
   ]
  },
  {
   "cell_type": "code",
   "execution_count": null,
   "id": "496bcf4a",
   "metadata": {},
   "outputs": [],
   "source": [
    "# Правильный многоугольник\n",
    "from math import tan, pi\n",
    "n = float(input())\n",
    "a = float(input())\n",
    "s = (n * a**2)/(4 * tan(pi/n))\n",
    "print(s)"
   ]
  },
  {
   "cell_type": "markdown",
   "id": "32a6270a",
   "metadata": {},
   "source": [
    "### 7.1 Тема урока: цикл for "
   ]
  },
  {
   "cell_type": "code",
   "execution_count": null,
   "id": "64884070",
   "metadata": {},
   "outputs": [],
   "source": [
    "# примеры\n",
    "print(\"A\")\n",
    "print(\"B\")\n",
    "\n",
    "for i in range(5):\n",
    "    print(\"C\")\n",
    "    print(\"D\")\n",
    "\n",
    "print(\"E\")"
   ]
  },
  {
   "cell_type": "code",
   "execution_count": null,
   "id": "9ff7ac39",
   "metadata": {},
   "outputs": [],
   "source": [
    "# Python is awesome\n",
    "for i in range(10):\n",
    "   print('Python is awesome!')"
   ]
  },
  {
   "cell_type": "code",
   "execution_count": null,
   "id": "ed4a353d",
   "metadata": {},
   "outputs": [],
   "source": [
    "# Повторяй за мной\n",
    "p = input()\n",
    "k = int(input())\n",
    "\n",
    "for i in range(k):\n",
    "   print(p)\n"
   ]
  },
  {
   "cell_type": "code",
   "execution_count": null,
   "id": "a0641e09",
   "metadata": {},
   "outputs": [],
   "source": [
    "#  Последовательность символов\n",
    "for i in range(6):\n",
    "    print('AAA')    \n",
    "for i in range(5):\n",
    "    print('BBBB')\n",
    "print('E')\n",
    "for i in range(9):\n",
    "    print('TTTTT')\n",
    "print('G')"
   ]
  },
  {
   "cell_type": "code",
   "execution_count": null,
   "id": "dd625107",
   "metadata": {},
   "outputs": [],
   "source": [
    "# Звездный прямоугольник\n",
    "\n",
    "x = int(input())\n",
    "for i in range(x):\n",
    "    print(\"*\"*19)\n"
   ]
  },
  {
   "cell_type": "markdown",
   "id": "fc3dfb14",
   "metadata": {},
   "source": [
    "##### Переменная цикла"
   ]
  },
  {
   "cell_type": "code",
   "execution_count": null,
   "id": "fc93acd2",
   "metadata": {},
   "outputs": [],
   "source": [
    "# Повторяй за мной 2\n",
    "\n",
    "x = input()\n",
    "for i in range(10):\n",
    "    print(i + 1, x)"
   ]
  },
  {
   "cell_type": "code",
   "execution_count": null,
   "id": "dd603a0a",
   "metadata": {},
   "outputs": [],
   "source": [
    "# Квадрат числа\n",
    "\n",
    "x = int(input())\n",
    "for i in range(x+1):\n",
    "    print('Квадрат числа', i, 'равен', i ** 2)"
   ]
  },
  {
   "cell_type": "code",
   "execution_count": null,
   "id": "33e2ce90",
   "metadata": {},
   "outputs": [],
   "source": [
    "# Звёздный треугольник ⭐\n",
    "n = int(input())\n",
    "\n",
    "for i in range(n-1, -1 , -1):\n",
    "    print((i + 1) * '*')\n",
    "\n"
   ]
  },
  {
   "cell_type": "code",
   "execution_count": null,
   "id": "993d8903",
   "metadata": {},
   "outputs": [],
   "source": [
    "# Или\n",
    "# вёздный треугольник ⭐\n",
    "\n",
    "a = int(input())\n",
    "for i in range(a):\n",
    "    print('*'*(a-i))"
   ]
  },
  {
   "cell_type": "code",
   "execution_count": null,
   "id": "e2896e99",
   "metadata": {},
   "outputs": [],
   "source": [
    "# Популяция 🦠🧫\n",
    "# m: стартовое количество организмов;\n",
    "# p: среднесуточное увеличение в %;\n",
    "# n: количество дней для размножения.\n",
    "m, p, n = int(input()), int(input()), int(input())\n",
    "\n",
    "for i in range(n):\n",
    "    print(i+1, m*(1+p/100)**i)\n"
   ]
  },
  {
   "cell_type": "markdown",
   "id": "a182d001",
   "metadata": {},
   "source": [
    "#### 7.2 Тема урока: цикл for \n"
   ]
  },
  {
   "cell_type": "code",
   "execution_count": null,
   "id": "c5e5fd48",
   "metadata": {},
   "outputs": [],
   "source": [
    "for i in range(1, 8):\n",
    "    print(i)"
   ]
  },
  {
   "cell_type": "code",
   "execution_count": null,
   "id": "818e4427",
   "metadata": {},
   "outputs": [],
   "source": [
    "for i in range(3, 11, 2):\n",
    "    print(i)"
   ]
  },
  {
   "cell_type": "code",
   "execution_count": null,
   "id": "c87b9e02",
   "metadata": {},
   "outputs": [],
   "source": [
    "for i in range(10, 0, -2):\n",
    "    print(i)"
   ]
  },
  {
   "cell_type": "code",
   "execution_count": null,
   "id": "6bc419fc",
   "metadata": {},
   "outputs": [],
   "source": [
    "# Последовательность чисел 1\n",
    "\n",
    "m, n = int(input()), int(input())\n",
    "for i in range(m, n+1):\n",
    "    print(i)"
   ]
  },
  {
   "cell_type": "code",
   "execution_count": null,
   "id": "1a15a0d0",
   "metadata": {},
   "outputs": [],
   "source": [
    "# Последовательность чисел 2 🌶️\n",
    "\n",
    "m, n = int(input()), int(input())\n",
    "if m < n:\n",
    "    for i in range(m, n+1):\n",
    "        print(i)\n",
    "else:\n",
    "    for i in range(m, n-1, -1):\n",
    "        print(i)"
   ]
  },
  {
   "cell_type": "code",
   "execution_count": null,
   "id": "d32af993",
   "metadata": {},
   "outputs": [],
   "source": [
    "# Последовательность чисел 3 🌶️\n",
    "# Так и не получилось решение\n",
    "\n",
    "\n",
    "m, n = int(input()), int(input())\n",
    "\n",
    "if m % 2 == 0 and m > n+1:\n",
    "    for i in range(m-1, n, -2):\n",
    "        print(i)\n",
    "elif m - n == 1 and n % 2 != 0:\n",
    "    for i in range(m-1, n-1, -1):\n",
    "        print(i) \n",
    "elif n % 2 != 0:\n",
    "    for i in range(m, n, -1):\n",
    "        print(i) \n",
    "else:\n",
    "    for i in range(m, n, -2):\n",
    "        print(i)"
   ]
  },
  {
   "cell_type": "code",
   "execution_count": null,
   "id": "d8612459",
   "metadata": {},
   "outputs": [],
   "source": [
    "# оч. красивое решение \n",
    "m, n = int(input()), int(input())\n",
    "\n",
    "for i in range(m, n-1, -1):\n",
    "    if i % 2 != 0:\n",
    "        print(i)"
   ]
  },
  {
   "cell_type": "code",
   "execution_count": null,
   "id": "e46f323d",
   "metadata": {},
   "outputs": [],
   "source": [
    "# Последовательность чисел 4\n",
    "\n",
    "m = int(input())\n",
    "n = int(input())\n",
    "\n",
    "for i in range(m, n+1):\n",
    "    if i % 17 == 0 or i % 15 == 0 or i % 10 == 9: \n",
    "        print(i)"
   ]
  },
  {
   "cell_type": "code",
   "execution_count": null,
   "id": "f1bd188d",
   "metadata": {},
   "outputs": [],
   "source": [
    "# Таблица умножения\n",
    "n = int(input())\n",
    "\n",
    "for i in range(1,11):\n",
    "    print(n,\"x\",i,\"=\",i * n,sep=' ')"
   ]
  },
  {
   "cell_type": "markdown",
   "id": "2c2892b7",
   "metadata": {},
   "source": [
    "#### 7.3 Тема урока: частые сценарии"
   ]
  },
  {
   "cell_type": "code",
   "execution_count": null,
   "id": "6bd36b4b",
   "metadata": {},
   "outputs": [],
   "source": [
    "# Количество чисел\n",
    "a, b = int(input()), int(input())\n",
    "counter = 0\n",
    "for i in range(a, b+1):\n",
    "    if (i ** 3) % 10 == 4 or (i ** 3) % 10 == 9:\n",
    "        counter += 1\n",
    "        \n",
    "print(counter)"
   ]
  },
  {
   "cell_type": "code",
   "execution_count": null,
   "id": "9dcb72e4",
   "metadata": {},
   "outputs": [],
   "source": [
    "# Сумма чисел (в цикле)\n",
    "\n",
    "n = int(input())\n",
    "\n",
    "total = 0\n",
    "for i in range(n):\n",
    "    num = int(input())\n",
    "    total += num    \n",
    "\n",
    "print(total)\n",
    "\n"
   ]
  },
  {
   "cell_type": "code",
   "execution_count": null,
   "id": "583a391b",
   "metadata": {},
   "outputs": [],
   "source": [
    "# Асимптотическое приближение\n",
    "from math import log\n",
    "\n",
    "n = int(input())\n",
    "\n",
    "total = 0\n",
    "for i in range(n):\n",
    "    num = 1/(i+1) \n",
    "    total += num\n",
    "\n",
    "print(total-log(n))"
   ]
  },
  {
   "cell_type": "code",
   "execution_count": 11,
   "id": "b70e7cac",
   "metadata": {},
   "outputs": [
    {
     "name": "stdout",
     "output_type": "stream",
     "text": [
      "500\n"
     ]
    }
   ],
   "source": [
    "# Сумма чисел 2\n",
    "n = int(input())\n",
    "\n",
    "total = 0\n",
    "for i in range(1, n+1):\n",
    "    if (i ** 2) % 10 == 2 or (i ** 2) % 10 == 5 or (i ** 2) % 10 == 8:\n",
    "        total += i\n",
    "    \n",
    "\n",
    "print(total)"
   ]
  },
  {
   "cell_type": "code",
   "execution_count": 14,
   "id": "b406f68b",
   "metadata": {},
   "outputs": [
    {
     "name": "stdout",
     "output_type": "stream",
     "text": [
      "24\n"
     ]
    }
   ],
   "source": [
    "# N факториал\n",
    "n = int(input())\n",
    "\n",
    "total = 1\n",
    "for i in range(1, n+1):\n",
    "    total = total * i\n",
    "    \n",
    "print(total)"
   ]
  },
  {
   "cell_type": "code",
   "execution_count": 17,
   "id": "0431d81d",
   "metadata": {},
   "outputs": [
    {
     "name": "stdout",
     "output_type": "stream",
     "text": [
      "6\n"
     ]
    }
   ],
   "source": [
    "# N факториал  (decision 2)\n",
    "n = int(input())\n",
    "\n",
    "from math import factorial\n",
    "print(factorial(n))\n"
   ]
  },
  {
   "cell_type": "code",
   "execution_count": null,
   "id": "99580ddc",
   "metadata": {},
   "outputs": [],
   "source": []
  }
 ],
 "metadata": {
  "kernelspec": {
   "display_name": "Python 3 (ipykernel)",
   "language": "python",
   "name": "python3"
  },
  "language_info": {
   "codemirror_mode": {
    "name": "ipython",
    "version": 3
   },
   "file_extension": ".py",
   "mimetype": "text/x-python",
   "name": "python",
   "nbconvert_exporter": "python",
   "pygments_lexer": "ipython3",
   "version": "3.10.12"
  }
 },
 "nbformat": 4,
 "nbformat_minor": 5
}
