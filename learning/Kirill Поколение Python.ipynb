{
 "cells": [
  {
   "cell_type": "markdown",
   "id": "9de5e343-764a-4314-815e-04f1d21fe986",
   "metadata": {},
   "source": [
    "Напишите программу, которая определяет, являются ли три заданных числа (в указанном порядке) последовательными членами  \n",
    "арифметической прогрессии  \n",
    "Формат входных данных  \n",
    "На вход программе подаются три числа, каждое на отдельной строке.  \n",
    "\n",
    "Формат выходных данных  \n",
    "Программа должна вывести «YES» или «NO» (без кавычек) в соответствии с условием задачи.   "
   ]
  },
  {
   "cell_type": "code",
   "execution_count": 43,
   "id": "69a58674-ea84-4107-846d-5d0fa1f7d6e1",
   "metadata": {},
   "outputs": [
    {
     "ename": "ValueError",
     "evalue": "invalid literal for int() with base 10: ''",
     "output_type": "error",
     "traceback": [
      "\u001b[1;31m---------------------------------------------------------------------------\u001b[0m",
      "\u001b[1;31mValueError\u001b[0m                                Traceback (most recent call last)",
      "Cell \u001b[1;32mIn[43], line 1\u001b[0m\n\u001b[1;32m----> 1\u001b[0m n1 \u001b[38;5;241m=\u001b[39m \u001b[38;5;28;43mint\u001b[39;49m\u001b[43m(\u001b[49m\u001b[38;5;28;43minput\u001b[39;49m\u001b[43m(\u001b[49m\u001b[43m)\u001b[49m\u001b[43m)\u001b[49m \n\u001b[0;32m      2\u001b[0m n2 \u001b[38;5;241m=\u001b[39m \u001b[38;5;28mint\u001b[39m(\u001b[38;5;28minput\u001b[39m())\n\u001b[0;32m      3\u001b[0m n3 \u001b[38;5;241m=\u001b[39m \u001b[38;5;28mint\u001b[39m(\u001b[38;5;28minput\u001b[39m())\n",
      "\u001b[1;31mValueError\u001b[0m: invalid literal for int() with base 10: ''"
     ]
    }
   ],
   "source": [
    "n1 = int(input()) \n",
    "n2 = int(input())\n",
    "n3 = int(input())\n",
    "\n",
    "d = n2-n1 \n",
    "\n",
    "if n3-n2 == d:\n",
    "    print('YES')\n",
    "else:\n",
    "    print('NO')"
   ]
  },
  {
   "cell_type": "markdown",
   "id": "6cc9d535-7340-4499-9c0e-353fa80b3024",
   "metadata": {},
   "source": [
    "Наименьшее из двух чисел  \n",
    "Напишите программу, которая определяет наименьшее из двух чисел.\n",
    "\n",
    "Формат входных данных  \n",
    "На вход программе подаётся два различных целых числа.\n",
    "\n",
    "Формат выходных данных  \n",
    "Программа должна вывести наименьшее из двух чисел.\n"
   ]
  },
  {
   "cell_type": "code",
   "execution_count": null,
   "id": "55251769-7d7b-4656-9618-4b05e3597bbf",
   "metadata": {},
   "outputs": [
    {
     "name": "stdout",
     "output_type": "stream",
     "text": [
      " 1\n",
      " 2\n"
     ]
    },
    {
     "name": "stdout",
     "output_type": "stream",
     "text": [
      "1\n"
     ]
    }
   ],
   "source": [
    "a = int(input())\n",
    "b = int(input())\n",
    "\n",
    "if a>b:\n",
    "    print(b)\n",
    "else:\n",
    "    print(a)"
   ]
  },
  {
   "cell_type": "markdown",
   "id": "cc476ea1-6a9e-4755-a3a6-7bd6e1146704",
   "metadata": {},
   "source": [
    "Напишите программу, которая определяет наименьшее из четырёх чисел.\n",
    "\n",
    "Формат входных данных  \n",
    "На вход программе подаётся четыре целых числа.\n",
    "\n",
    "Формат выходных данных  \n",
    "Программа должна вывести наименьшее из четырёх чисел.\n",
    "\n",
    "Примечание. Учитывайте, что минимальные числа могут повторяться "
   ]
  },
  {
   "cell_type": "code",
   "execution_count": null,
   "id": "59d037f7-a7fd-4199-994d-b5f175f97cc8",
   "metadata": {},
   "outputs": [
    {
     "name": "stdout",
     "output_type": "stream",
     "text": [
      " 1\n",
      " 2\n",
      " 3\n",
      " 4\n"
     ]
    },
    {
     "name": "stdout",
     "output_type": "stream",
     "text": [
      "1\n"
     ]
    }
   ],
   "source": [
    "a,b,c,d = int(input()),int(input()),int(input()),int(input())\n",
    "\n",
    "if a<b: min1 = a\n",
    "else: min1 = b\n",
    "    \n",
    "if c<d: min2 = c\n",
    "else: min2 = d\n",
    "    \n",
    "if min1 < min2:\n",
    "    print(min1)\n",
    "else:\n",
    "    print(min2)"
   ]
  },
  {
   "cell_type": "markdown",
   "id": "c9ad7783-0393-45fc-a10f-96d301ef0fe6",
   "metadata": {},
   "source": [
    "Напишите программу, которая по введённому возрасту пользователя сообщает, к какой возрастной группе он относится:\n",
    "\n",
    "до 13 (включительно) – детство;  \n",
    "от 14 до 24 (включительно) – молодость;  \n",
    "от 25 до 59 (включительно) – зрелость;  \n",
    "от 60 (включительно) – старость.  \n",
    "\n",
    "Формат входных данных  \n",
    "На вход программе подаётся одно целое число – возраст пользователя.  \n",
    "\n",
    "Формат выходных данных  \n",
    "Программа должна вывести название возрастной группы.  "
   ]
  },
  {
   "cell_type": "code",
   "execution_count": null,
   "id": "fcb3c6d6-d2db-435f-8f71-4dba1d585de4",
   "metadata": {},
   "outputs": [
    {
     "name": "stdout",
     "output_type": "stream",
     "text": [
      " 67\n"
     ]
    },
    {
     "name": "stdout",
     "output_type": "stream",
     "text": [
      "старость\n"
     ]
    }
   ],
   "source": [
    "a = int(input())\n",
    "\n",
    "if a <= 13: \n",
    "    print('детство')\n",
    "if 13 < a <= 24: \n",
    "    print('молодость') \n",
    "if a <= 59 and a > 24: \n",
    "    print('зрелость') \n",
    "if a >= 60:\n",
    "    print('старость')\n",
    "    "
   ]
  },
  {
   "cell_type": "code",
   "execution_count": null,
   "id": "d38ca1f7-a375-4349-bc74-6f758c3978cf",
   "metadata": {},
   "outputs": [
    {
     "name": "stdout",
     "output_type": "stream",
     "text": [
      " 1\n"
     ]
    },
    {
     "name": "stdout",
     "output_type": "stream",
     "text": [
      "детство\n"
     ]
    },
    {
     "name": "stdout",
     "output_type": "stream",
     "text": [
      " 1\n"
     ]
    },
    {
     "name": "stdout",
     "output_type": "stream",
     "text": [
      "детство\n"
     ]
    }
   ],
   "source": [
    "# второе решение\n",
    "\n",
    "a = int(input())\n",
    "\n",
    "v1, v2, v3, v4 = a <= 13, 14 <= a <= 24, 25 <= a <= 59, 60 <= a\n",
    "print(v1 * 'детство' + v2 * 'молодость' + v3 * 'зрелость' + v4 * 'старость')\n",
    "\n",
    "# третье решение\n",
    "\n",
    "a = int(input())\n",
    "if a <= 13:\n",
    "    print(\"детство\")\n",
    "elif a <= 24:\n",
    "    print(\"молодость\")\n",
    "elif a <= 59:\n",
    "    print(\"зрелость\")\n",
    "elif a > 60:\n",
    "    print(\"старость\")"
   ]
  },
  {
   "cell_type": "markdown",
   "id": "1d876dcd-5d98-457a-b92f-68d8e3cc2c1c",
   "metadata": {},
   "source": [
    "Напишите программу, которая считывает три числа и подсчитывает сумму только положительных чисел.\n",
    "\n",
    "На вход программе подаются три целых числа.\n",
    "\n",
    "Программа должна вывести одно число – сумму положительных чисел.\n",
    "\n",
    "Примечание. Если положительных чисел нет, то следует вывести 0\n"
   ]
  },
  {
   "cell_type": "code",
   "execution_count": null,
   "id": "0bcd78c1-8cbf-4015-824c-16f13f3d1221",
   "metadata": {},
   "outputs": [
    {
     "name": "stdout",
     "output_type": "stream",
     "text": [
      " -2\n",
      " -3\n",
      " 77\n"
     ]
    },
    {
     "name": "stdout",
     "output_type": "stream",
     "text": [
      "77\n"
     ]
    }
   ],
   "source": [
    "a,b,c = int(input()), int(input()), int(input())\n",
    "\n",
    "if a > 0: a = a\n",
    "else: a = 0\n",
    "\n",
    "if b > 0: b = b\n",
    "else: b = 0 \n",
    "\n",
    "if c > 0: c = c\n",
    "else: c = 0\n",
    "\n",
    "print(a+b+c)"
   ]
  },
  {
   "attachments": {
    "d99da830-a808-44db-9f18-7291ccc3215b.png": {
     "image/png": "[encoded data removed]"
    }
   },
   "cell_type": "markdown",
   "id": "7d9603f0-28a0-4cc0-b925-503c335dd331",
   "metadata": {},
   "source": [
    "Напишите программу, которая принимает целое число x и определяет, принадлежит ли данное число указанному промежутку. \n",
    "\n",
    "Формат входных данных  \n",
    "На вход программе подаётся целое число x.  \n",
    "\n",
    "Формат выходных данных  \n",
    "Программа должна вывести текст в соответствии с условием задачи.  (Принадлежит, Не принадлежит)\n",
    "\n",
    "![image.png](attachment:d99da830-a808-44db-9f18-7291ccc3215b.png)\n",
    "\n",
    "Примечание. Если точка выколотая, то граница не включается. Если же точка закрашенная, то граница включается.\n",
    "\n"
   ]
  },
  {
   "cell_type": "code",
   "execution_count": null,
   "id": "0eade6cd-72e0-402c-ab9a-12ce3ad65445",
   "metadata": {},
   "outputs": [
    {
     "name": "stdout",
     "output_type": "stream",
     "text": [
      " 17\n"
     ]
    },
    {
     "name": "stdout",
     "output_type": "stream",
     "text": [
      "Не принадлежит\n"
     ]
    }
   ],
   "source": [
    "x = int(input())\n",
    "\n",
    "if x > -1 and x < 17:\n",
    "    print(\"Принадлежит\")\n",
    "else:\n",
    "    print(\"Не принадлежит\")\n",
    "\n"
   ]
  },
  {
   "cell_type": "code",
   "execution_count": null,
   "id": "1815fa6e-4406-4431-98eb-a3c0d5a74806",
   "metadata": {},
   "outputs": [
    {
     "name": "stdout",
     "output_type": "stream",
     "text": [
      " -1\n"
     ]
    },
    {
     "name": "stdout",
     "output_type": "stream",
     "text": [
      "Не принадлежит\n"
     ]
    }
   ],
   "source": [
    "# 4.2 Логические операции. 10 из 16 \n",
    "\n",
    "x = int(input())\n",
    "\n",
    "if x <= -3 or x >= 7:\n",
    "    print(\"Принадлежит\")\n",
    "else:\n",
    "    print(\"Не принадлежит\")\n",
    "\n"
   ]
  },
  {
   "cell_type": "markdown",
   "id": "52d9a9c9",
   "metadata": {},
   "source": [
    "#### 5 Итоговая работа на условный оператор."
   ]
  },
  {
   "cell_type": "code",
   "execution_count": null,
   "id": "0003471a",
   "metadata": {},
   "outputs": [
    {
     "name": "stdout",
     "output_type": "stream",
     "text": [
      "YES\n"
     ]
    }
   ],
   "source": [
    "# Напишите программу, которая определяет, оканчивается ли год с данным номером на два нуля. \n",
    "# Если год оканчивается, то выведите «YES», иначе выведите «NO».\n",
    "\n",
    "year = int(input())\n",
    "\n",
    "n1 = (year // 10)%10\n",
    "n2 = year%10\n",
    "if n1==0 and n2==0:\n",
    "    print('YES')\n",
    "else:\n",
    "    print('NO')"
   ]
  },
  {
   "cell_type": "code",
   "execution_count": 44,
   "id": "6ecbd303",
   "metadata": {},
   "outputs": [
    {
     "name": "stdout",
     "output_type": "stream",
     "text": [
      "NO\n"
     ]
    }
   ],
   "source": [
    "# Шахматная доска\n",
    "\n",
    "# Заданы две клетки шахматной доски. Напишите программу, которая определяет, имеют ли указанные клетки один цвет или нет. \n",
    "# Если они покрашены в один цвет, то выведите слово «YES», а если в разные цвета, то «NO».\n",
    "\n",
    "a, b, c, d = int(input()), int(input()), int(input()), int(input())\n",
    "\n",
    "if (a + b + c +d) % 2 == 0:\n",
    "    print('YES')\n",
    "else:\n",
    "    print('NO')"
   ]
  },
  {
   "cell_type": "code",
   "execution_count": 57,
   "id": "02d98068",
   "metadata": {},
   "outputs": [
    {
     "name": "stdout",
     "output_type": "stream",
     "text": [
      "YES\n"
     ]
    }
   ],
   "source": [
    "# Girls only\n",
    "\n",
    "age, sex = int(input()), str(input())\n",
    "\n",
    "if 10 <= age <= 15  and sex == \"f\":\n",
    "    print('YES')\n",
    "else:\n",
    "    print('NO')"
   ]
  },
  {
   "cell_type": "code",
   "execution_count": 65,
   "id": "0a49c9c2",
   "metadata": {},
   "outputs": [
    {
     "name": "stdout",
     "output_type": "stream",
     "text": [
      "ошибка\n"
     ]
    }
   ],
   "source": [
    "# Римские цифры\n",
    "\n",
    "a = int(input())\n",
    "\n",
    "if a == 1:\n",
    "    print('I')\n",
    "elif a == 2:\n",
    "    print('II')\n",
    "elif a == 3:\n",
    "    print('III')\n",
    "elif a == 4:\n",
    "    print('IV')\n",
    "elif a == 5:\n",
    "    print('V')\n",
    "elif a == 6:\n",
    "    print('VI')\n",
    "elif a == 7:\n",
    "    print('VII')\n",
    "elif a == 8:\n",
    "    print('VIII')\n",
    "elif a == 9:\n",
    "    print('IX')\n",
    "elif a == 10:\n",
    "    print('X')\n",
    "else:\n",
    "    print('ошибка')\n",
    "\n",
    "\n",
    "\n",
    "    "
   ]
  },
  {
   "cell_type": "code",
   "execution_count": null,
   "id": "1d75fac7",
   "metadata": {},
   "outputs": [],
   "source": []
  }
 ],
 "metadata": {
  "kernelspec": {
   "display_name": "Python 3 (ipykernel)",
   "language": "python",
   "name": "python3"
  },
  "language_info": {
   "codemirror_mode": {
    "name": "ipython",
    "version": 3
   },
   "file_extension": ".py",
   "mimetype": "text/x-python",
   "name": "python",
   "nbconvert_exporter": "python",
   "pygments_lexer": "ipython3",
   "version": "3.12.3"
  }
 },
 "nbformat": 4,
 "nbformat_minor": 5
}
